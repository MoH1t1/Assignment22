{
  "metadata": {
    "kernelspec": {
      "name": "python",
      "display_name": "Python (Pyodide)",
      "language": "python"
    },
    "language_info": {
      "codemirror_mode": {
        "name": "python",
        "version": 3
      },
      "file_extension": ".py",
      "mimetype": "text/x-python",
      "name": "python",
      "nbconvert_exporter": "python",
      "pygments_lexer": "ipython3",
      "version": "3.8"
    }
  },
  "nbformat_minor": 4,
  "nbformat": 4,
  "cells": [
    {
      "cell_type": "code",
      "source": "# Consider the below code to answer further questions:\nimport numpy as np\nlist_ = [ '1' , '2' , '3' , '4' , '5' ]\narray_list = np.array(object = list_)",
      "metadata": {
        "trusted": true
      },
      "outputs": [],
      "execution_count": 5
    },
    {
      "cell_type": "code",
      "source": "# Q1. Is there any difference in the data type of variables list_ and array_list? If there is then write a code to print the data types of both the variables.\n\n# Yes, there is a difference in the data types of list_ and array_list. list_ is a Python list, which is a generic container that can hold any type of object.\n# On the other hand, array_list is a NumPy array, which has a fixed type for all its elements and will store data in a more efficient, contiguous manner.\n\nimport numpy as np\nlist_ = ['1', '2', '3', '4', '5']\narray_list = np.array(object = list_)\nprint(f\"Data type of list_: {type(list_)}\")\nprint(f\"Data type of array_list: {type(array_list)}\")\n                                                                                                                                                                                                                                                                                                                                                                                                                                                                                                                                                                                          ",
      "metadata": {
        "trusted": true
      },
      "outputs": [
        {
          "name": "stdout",
          "text": "Data type of list_: <class 'list'>\nData type of array_list: <class 'numpy.ndarray'>\n",
          "output_type": "stream"
        }
      ],
      "execution_count": 3
    },
    {
      "cell_type": "code",
      "source": "# Q2. Write a code to print the data type of each and every element of both the variables list_ and arra_list.\n\nimport numpy as np\n\nlist_ = ['1', '2', '3', '4', '5']\narray_list = np.array(object = list_)\nprint(\"Data types of elements in list_:\")\n\nfor item in list_:\n    print(f\"Type of '{item}': {type(item)}\")\nprint(\"\\nData types of elements in array_list:\")\n\nfor item in array_list:\n    print(f\"Type of '{item}': {type(item)}\")\n",
      "metadata": {
        "trusted": true
      },
      "outputs": [
        {
          "name": "stdout",
          "text": "Data types of elements in list_:\nType of '1': <class 'str'>\nType of '2': <class 'str'>\nType of '3': <class 'str'>\nType of '4': <class 'str'>\nType of '5': <class 'str'>\n\nData types of elements in array_list:\nType of '1': <class 'numpy.str_'>\nType of '2': <class 'numpy.str_'>\nType of '3': <class 'numpy.str_'>\nType of '4': <class 'numpy.str_'>\nType of '5': <class 'numpy.str_'>\n",
          "output_type": "stream"
        }
      ],
      "execution_count": 6
    },
    {
      "cell_type": "code",
      "source": "# Q3. Considering the following changes in the variable, array_list: array_list = np.array(object = list_, dtype = int)\n# Will there be any difference in the data type of the elements present in both the variables, list_ and\n# arra_list? If so then print the data types of each and every element present in both the variables, list_ and arra_list.\n\nYes, there will be a difference. By setting dtype=int in the np.array() call, we are explicitly telling NumPy to convert the elements of the array into integers. \nThis will affect the data type of the elements in array_list, while the elements in list_ remain strings.",
      "metadata": {
        "trusted": true
      },
      "outputs": [],
      "execution_count": null
    },
    {
      "cell_type": "code",
      "source": "# Consider the below code to answer further questions:\nimport numpy as np\nnum_list = [ [ 1 , 2 , 3 ] , [ 4 , 5 , 6 ] ]\nnum_array = np.array(object = num_list)",
      "metadata": {
        "trusted": true
      },
      "outputs": [],
      "execution_count": null
    },
    {
      "cell_type": "code",
      "source": "# Q4. Write a code to find the following characteristics of variable, num_array: (i) shape (ii) size\n\nimport numpy as np\n\nnum_list = [[1, 2, 3], [4, 5, 6]]\nnum_array = np.array(object=num_list)\nshape = num_array.shape\nsize = num_array.size\n\nprint(f\"Shape of num_array: {shape}\")\nprint(f\"Size of num_array: {size}\")\n",
      "metadata": {
        "trusted": true
      },
      "outputs": [
        {
          "name": "stdout",
          "text": "Shape of num_array: (2, 3)\nSize of num_array: 6\n",
          "output_type": "stream"
        }
      ],
      "execution_count": 7
    },
    {
      "cell_type": "code",
      "source": "# Q5. Write a code to create numpy array of 3*3 matrix containing zeros only, using a numpy array creation function.\n# [Hint: The size of the array will be 9 and the shape will be (3,3).]\n\nimport numpy as np\nzero_matrix = np.zeros((3, 3))\nprint(f\"3x3 Matrix of zeros:\\n{zero_matrix}\")\n",
      "metadata": {
        "trusted": true
      },
      "outputs": [
        {
          "name": "stdout",
          "text": "3x3 Matrix of zeros:\n[[0. 0. 0.]\n [0. 0. 0.]\n [0. 0. 0.]]\n",
          "output_type": "stream"
        }
      ],
      "execution_count": 8
    },
    {
      "cell_type": "code",
      "source": "# Q6. Create an identity matrix of shape (5,5) using numpy functions? [Hint: An identity matrix is a matrix containing 1 diagonally and other elements will be 0.]\n\nimport numpy as np\nidentity_matrix = np.eye(5)\nprint(f\"5x5 Identity Matrix:\\n{identity_matrix}\")\n",
      "metadata": {
        "trusted": true
      },
      "outputs": [
        {
          "name": "stdout",
          "text": "5x5 Identity Matrix:\n[[1. 0. 0. 0. 0.]\n [0. 1. 0. 0. 0.]\n [0. 0. 1. 0. 0.]\n [0. 0. 0. 1. 0.]\n [0. 0. 0. 0. 1.]]\n",
          "output_type": "stream"
        }
      ],
      "execution_count": 9
    }
  ]
}